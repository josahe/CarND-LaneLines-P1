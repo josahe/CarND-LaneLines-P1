{
 "cells": [
  {
   "cell_type": "markdown",
   "metadata": {},
   "source": [
    "# Self-Driving Car Engineer Nanodegree\n",
    "## Project: **Finding Lane Lines on the Road** "
   ]
  },
  {
   "cell_type": "markdown",
   "metadata": {},
   "source": [
    "## Import packages"
   ]
  },
  {
   "cell_type": "code",
   "execution_count": null,
   "metadata": {},
   "outputs": [],
   "source": [
    "import os\n",
    "import math\n",
    "import matplotlib.pyplot as plt\n",
    "import matplotlib.image as mpimg\n",
    "import numpy as np\n",
    "import cv2\n",
    "from collections import deque\n",
    "from moviepy.editor import VideoFileClip\n",
    "from IPython.display import HTML\n",
    "%matplotlib inline"
   ]
  },
  {
   "cell_type": "markdown",
   "metadata": {},
   "source": [
    "## Function definitions"
   ]
  },
  {
   "cell_type": "code",
   "execution_count": null,
   "metadata": {},
   "outputs": [],
   "source": [
    "def grayscale(img):\n",
    "    \"\"\"Applies the Grayscale transform\n",
    "    This will return an image with only one color channel\n",
    "    but NOTE: to see the returned image as grayscale\n",
    "    (assuming your grayscaled image is called 'gray')\n",
    "    you should call plt.imshow(gray, cmap='gray')\"\"\"\n",
    "    return cv2.cvtColor(img, cv2.COLOR_RGB2GRAY)\n",
    "    #or use BGR2GRAY if you read an image with cv2.imread()\n",
    "    # return cv2.cvtColor(img, cv2.COLOR_BGR2GRAY)\n",
    "    \n",
    "def canny(img, low_threshold, high_threshold):\n",
    "    \"\"\"Applies the Canny transform\"\"\"\n",
    "    return cv2.Canny(img, low_threshold, high_threshold)\n",
    "\n",
    "def gaussian_blur(img, kernel_size):\n",
    "    \"\"\"Applies a Gaussian Noise kernel\"\"\"\n",
    "    return cv2.GaussianBlur(img, (kernel_size, kernel_size), 0)\n",
    "\n",
    "def region_of_interest(img, vertices):\n",
    "    \"\"\"Applies an image mask.\n",
    "    Only keeps the region of the image defined by the polygon\n",
    "    formed from `vertices`. The rest of the image is set to black.\"\"\"\n",
    "    #defining a blank mask to start with\n",
    "    mask = np.zeros_like(img)   \n",
    "    \n",
    "    #defining a 3 channel or 1 channel color to fill the mask with depending on the input image\n",
    "    if len(img.shape) > 2:\n",
    "        channel_count = img.shape[2]  # i.e. 3 or 4 depending on your image\n",
    "        ignore_mask_color = (255,) * channel_count\n",
    "    else:\n",
    "        ignore_mask_color = 255\n",
    "        \n",
    "    #filling pixels inside the polygon defined by \"vertices\" with the fill color    \n",
    "    cv2.fillPoly(mask, vertices, ignore_mask_color)\n",
    "    \n",
    "    #returning the image only where mask pixels are nonzero\n",
    "    masked_image = cv2.bitwise_and(img, mask)\n",
    "    return masked_image\n",
    "\n",
    "def hough_lines(img, rho, theta, threshold, min_line_len, max_line_gap):\n",
    "    \"\"\"`img` should be the output of a Canny transform.\n",
    "    Returns an image with hough lines drawn.\"\"\"\n",
    "    lines = cv2.HoughLinesP(img, rho, theta, threshold, np.array([]), minLineLength=min_line_len, maxLineGap=max_line_gap)\n",
    "    line_img = np.zeros((img.shape[0], img.shape[1], 3), dtype=np.uint8)\n",
    "    draw_lines(line_img, lines)\n",
    "    return line_img\n",
    "\n",
    "def weighted_img(img, initial_img, α=0.8, β=1., λ=0.):\n",
    "    \"\"\"`img` is the output of the hough_lines(), An image with lines drawn on it.\n",
    "    Should be a blank image (all black) with lines drawn on it.\n",
    "    `initial_img` should be the image before any processing.\n",
    "    The result image is computed as follows: initial_img * α + img * β + λ\n",
    "    NOTE: initial_img and img must be the same shape!\"\"\"\n",
    "    return cv2.addWeighted(initial_img, α, img, β, λ)\n",
    "\n",
    "def plot_all_images(images,gray=False):\n",
    "    \"\"\"Takes a list of images as input and plots them\"\"\"\n",
    "    for image in images:\n",
    "        plt.figure(figsize = (10,10))\n",
    "        if(gray):\n",
    "            plt.imshow(image, cmap='gray')\n",
    "        else:\n",
    "            plt.imshow(image)\n",
    "\n",
    "def plot_image(image,title='',gray=False):\n",
    "    \"\"\"Takes an image as input and plots it\"\"\"\n",
    "    plt.figure(figsize = (10,10))\n",
    "    plt.title(title)\n",
    "    if(gray):\n",
    "        plt.imshow(image, cmap='gray')\n",
    "    else:\n",
    "        plt.imshow(image)\n",
    "\n",
    "class DrawLines(object):\n",
    "    \"\"\"To keep state of previous frames, which helps to smooth out the detection of lane lines,\n",
    "    this class is callable and keeps a running average of the past `buffer_size` frames.\"\"\"\n",
    "    def __init__(self):\n",
    "        self.reset()\n",
    "        \n",
    "    def reset(self):\n",
    "        self.lft_avg_x1 = deque(5*[0.], self.buffer_size())\n",
    "        self.lft_avg_x2 = deque(5*[0.], self.buffer_size())\n",
    "        self.lft_avg_y1 = deque(5*[0.], self.buffer_size())\n",
    "        self.lft_avg_y2 = deque(5*[0.], self.buffer_size())\n",
    "        self.rht_avg_x1 = deque(5*[0.], self.buffer_size())\n",
    "        self.rht_avg_x2 = deque(5*[0.], self.buffer_size())\n",
    "        self.rht_avg_y1 = deque(5*[0.], self.buffer_size())\n",
    "        self.rht_avg_y2 = deque(5*[0.], self.buffer_size())\n",
    "    \n",
    "    def buffer_size(self):\n",
    "        return 20\n",
    "    \n",
    "    def __call__(self, img, lines, color=[255, 0, 0], thickness=3):\n",
    "        lft_x1=[]\n",
    "        lft_x2=[]\n",
    "        lft_y1=[]\n",
    "        lft_y2=[]\n",
    "        rht_x1=[]\n",
    "        rht_x2=[]\n",
    "        rht_y1=[]\n",
    "        rht_y2=[]\n",
    "\n",
    "        for line in lines:\n",
    "            for x1,y1,x2,y2 in line:\n",
    "                angle = np.arctan2((y1-y2),(x1-x2))*180/np.pi\n",
    "                if(np.absolute(angle) < 170 and np.absolute(angle) > 130):\n",
    "                    slope = ((y2-y1)/(x2-x1))\n",
    "                    if(slope < 0):\n",
    "                        lft_x1.append(x1)\n",
    "                        lft_x2.append(x2)\n",
    "                        lft_y1.append(y1)\n",
    "                        lft_y2.append(y2)\n",
    "                    elif(slope > 0):\n",
    "                        rht_x1.append(x1)\n",
    "                        rht_x2.append(x2)\n",
    "                        rht_y1.append(y1)\n",
    "                        rht_y2.append(y2)\n",
    "\n",
    "        self.lft_avg_x1.append(sum(lft_x1)/len(lft_x1))\n",
    "        self.lft_avg_x2.append(sum(lft_x2)/len(lft_x2))\n",
    "        self.lft_avg_y1.append(sum(lft_y1)/len(lft_y1))\n",
    "        self.lft_avg_y2.append(sum(lft_y2)/len(lft_y2))\n",
    "        self.rht_avg_x1.append(sum(rht_x1)/len(rht_x1))\n",
    "        self.rht_avg_x2.append(sum(rht_x2)/len(rht_x2))\n",
    "        self.rht_avg_y1.append(sum(rht_y1)/len(rht_y1))\n",
    "        self.rht_avg_y2.append(sum(rht_y2)/len(rht_y2))\n",
    "        \n",
    "        #first entry to __call__ will require filling the buffer to\n",
    "        #calculate a sensible average\n",
    "        while(any(x==0. for x in self.lft_avg_x1)):\n",
    "            self.lft_avg_x1.append(sum(lft_x1)/len(lft_x1))\n",
    "            self.lft_avg_x2.append(sum(lft_x2)/len(lft_x2))\n",
    "            self.lft_avg_y1.append(sum(lft_y1)/len(lft_y1))\n",
    "            self.lft_avg_y2.append(sum(lft_y2)/len(lft_y2))\n",
    "            self.rht_avg_x1.append(sum(rht_x1)/len(rht_x1))\n",
    "            self.rht_avg_x2.append(sum(rht_x2)/len(rht_x2))\n",
    "            self.rht_avg_y1.append(sum(rht_y1)/len(rht_y1))\n",
    "            self.rht_avg_y2.append(sum(rht_y2)/len(rht_y2))\n",
    " \n",
    "        lft_params = np.polyfit([sum(self.lft_avg_x1)/len(self.lft_avg_x1),\n",
    "                                 sum(self.lft_avg_x2)/len(self.lft_avg_x2)],\n",
    "                                [sum(self.lft_avg_y1)/len(self.lft_avg_y1),\n",
    "                                 sum(self.lft_avg_y2)/len(self.lft_avg_y2)], 1)\n",
    "        rht_params = np.polyfit([sum(self.rht_avg_x1)/len(self.rht_avg_x1),\n",
    "                                 sum(self.rht_avg_x2)/len(self.rht_avg_x2)],\n",
    "                                [sum(self.rht_avg_y1)/len(self.rht_avg_y1),\n",
    "                                 sum(self.rht_avg_y2)/len(self.rht_avg_y2)], 1)\n",
    "\n",
    "        lft_poly = np.poly1d(lft_params)\n",
    "        rht_poly = np.poly1d(rht_params)\n",
    "\n",
    "        imshape = img.shape\n",
    "        cv2.line(img, (0, int(lft_poly(0))), (450, int(lft_poly(450))), color, thickness)\n",
    "        cv2.line(img, (520, int(rht_poly(520))), (imshape[1], int(rht_poly(imshape[1]))), color, thickness)"
   ]
  },
  {
   "cell_type": "markdown",
   "metadata": {},
   "source": [
    "## Processing pipeline"
   ]
  },
  {
   "cell_type": "code",
   "execution_count": null,
   "metadata": {},
   "outputs": [],
   "source": [
    "def process_image(image,uniq=0,save_image=False):\n",
    "    canny_low_threshold = 40\n",
    "    imshape = test_images[0].shape\n",
    "    vertices = np.array([[(0,imshape[0]), (450, 325), (520, 325), (imshape[1],imshape[0])]], dtype=np.int32)\n",
    "    \n",
    "    imgray = grayscale(image)\n",
    "    imgauss = gaussian_blur(imgray,11)\n",
    "    imcanny = canny(imgauss,canny_low_threshold,canny_low_threshold*3)\n",
    "    immask = region_of_interest(imcanny,vertices)\n",
    "    imhough = hough_lines(immask, 1, np.pi/180, 15, 5, 5)\n",
    "    imweight = weighted_img(imhough, image)\n",
    "    \n",
    "    result = imweight\n",
    "\n",
    "    if(save_image):\n",
    "        cv2.imwrite(\"test_images_output/\" + str(uniq) + \"_original.jpg\", cv2.cvtColor(image, cv2.COLOR_RGB2BGR))\n",
    "        cv2.imwrite(\"test_images_output/\" + str(uniq) + \"_grayscale.jpg\", imgray)\n",
    "        cv2.imwrite(\"test_images_output/\" + str(uniq) + \"_gaussian.jpg\", imgauss)\n",
    "        cv2.imwrite(\"test_images_output/\" + str(uniq) + \"_cannyedge.jpg\", imcanny)\n",
    "        cv2.imwrite(\"test_images_output/\" + str(uniq) + \"_masked.jpg\", immask)\n",
    "        cv2.imwrite(\"test_images_output/\" + str(uniq) + \"_houghlines.jpg\", cv2.cvtColor(imhough, cv2.COLOR_RGB2BGR))\n",
    "        cv2.imwrite(\"test_images_output/\" + str(uniq) + \"_overlayed.jpg\", cv2.cvtColor(imweight, cv2.COLOR_RGB2BGR))\n",
    "    \n",
    "    return result"
   ]
  },
  {
   "cell_type": "markdown",
   "metadata": {},
   "source": [
    "## Processing test images"
   ]
  },
  {
   "cell_type": "code",
   "execution_count": null,
   "metadata": {
    "scrolled": false
   },
   "outputs": [],
   "source": [
    "draw_lines = DrawLines()\n",
    "\n",
    "#get input image files\n",
    "test_image_list = os.listdir(\"test_images/\")\n",
    "\n",
    "#create empty lists for populating with images\n",
    "test_images = []\n",
    "test_images_processed = []\n",
    "\n",
    "#read in test images\n",
    "for image in test_image_list:\n",
    "    test_images.append(mpimg.imread('test_images/'+image))\n",
    "\n",
    "#process images\n",
    "i=0\n",
    "for image in test_images:\n",
    "    test_images_processed.append(process_image(image,i,True))\n",
    "    i+=1\n",
    "    draw_lines.reset()\n",
    "\n",
    "plot_all_images(test_images_processed)"
   ]
  },
  {
   "cell_type": "markdown",
   "metadata": {},
   "source": [
    "## Processing test video 1"
   ]
  },
  {
   "cell_type": "code",
   "execution_count": null,
   "metadata": {},
   "outputs": [],
   "source": [
    "white_output = 'test_videos_output/solidWhiteRight.mp4'\n",
    "clip1 = VideoFileClip(\"test_videos/solidWhiteRight.mp4\")\n",
    "white_clip = clip1.fl_image(process_image)\n",
    "%time white_clip.write_videofile(white_output, audio=False)\n",
    "\n",
    "#close file to prevent bad handle error when attempting to re-process\n",
    "clip1.reader.close()\n",
    "clip1.audio.reader.close_proc()\n",
    "white_clip.reader.close()\n",
    "white_clip.audio.reader.close_proc()\n",
    "\n",
    "HTML(\"\"\"\n",
    "<video width=\"960\" height=\"540\" controls>\n",
    "  <source src=\"{0}\">\n",
    "</video>\n",
    "\"\"\".format(white_output))"
   ]
  },
  {
   "cell_type": "markdown",
   "metadata": {},
   "source": [
    "## Processing test video 2"
   ]
  },
  {
   "cell_type": "code",
   "execution_count": null,
   "metadata": {},
   "outputs": [],
   "source": [
    "yellow_output = 'test_videos_output/solidYellowLeft.mp4'\n",
    "clip2 = VideoFileClip('test_videos/solidYellowLeft.mp4')\n",
    "yellow_clip = clip2.fl_image(process_image)\n",
    "%time yellow_clip.write_videofile(yellow_output, audio=False)\n",
    "\n",
    "#close file to prevent bad handle error when attempting to re-process\n",
    "clip2.reader.close()\n",
    "clip2.audio.reader.close_proc()\n",
    "yellow_clip.reader.close()\n",
    "yellow_clip.audio.reader.close_proc()\n",
    "\n",
    "HTML(\"\"\"\n",
    "<video width=\"960\" height=\"540\" controls>\n",
    "  <source src=\"{0}\">\n",
    "</video>\n",
    "\"\"\".format(yellow_output))"
   ]
  },
  {
   "cell_type": "markdown",
   "metadata": {
    "collapsed": true
   },
   "source": [
    "## Processing test video 3\n",
    "### This test video is much more challenging - the algorithm has not yet been tuned for this video"
   ]
  },
  {
   "cell_type": "code",
   "execution_count": null,
   "metadata": {},
   "outputs": [],
   "source": [
    "challenge_output = 'test_videos_output/challenge.mp4'\n",
    "clip3 = VideoFileClip('test_videos/challenge.mp4').subclip(0,5)\n",
    "challenge_clip = clip3.fl_image(process_image)\n",
    "%time challenge_clip.write_videofile(challenge_output, audio=False)\n",
    "\n",
    "#close file to prevent bad handle error when attempting to re-process\n",
    "clip3.reader.close()\n",
    "clip3.audio.reader.close_proc()\n",
    "challenge_clip.reader.close()\n",
    "challenge_clip.audio.reader.close_proc()\n",
    "\n",
    "HTML(\"\"\"\n",
    "<video width=\"960\" height=\"540\" controls>\n",
    "  <source src=\"{0}\">\n",
    "</video>\n",
    "\"\"\".format(challenge_output))"
   ]
  },
  {
   "cell_type": "markdown",
   "metadata": {},
   "source": [
    "---"
   ]
  }
 ],
 "metadata": {
  "anaconda-cloud": {},
  "kernelspec": {
   "display_name": "Python 3",
   "language": "python",
   "name": "python3"
  },
  "language_info": {
   "codemirror_mode": {
    "name": "ipython",
    "version": 3
   },
   "file_extension": ".py",
   "mimetype": "text/x-python",
   "name": "python",
   "nbconvert_exporter": "python",
   "pygments_lexer": "ipython3",
   "version": "3.5.2"
  },
  "widgets": {
   "state": {},
   "version": "1.1.2"
  }
 },
 "nbformat": 4,
 "nbformat_minor": 1
}
