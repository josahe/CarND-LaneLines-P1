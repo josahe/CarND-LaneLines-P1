{
 "cells": [
  {
   "cell_type": "markdown",
   "metadata": {},
   "source": [
    "# Simple Lane Detection Pipeline\n",
    "## Processing video"
   ]
  },
  {
   "cell_type": "markdown",
   "metadata": {},
   "source": [
    "### Import packages"
   ]
  },
  {
   "cell_type": "code",
   "execution_count": 1,
   "metadata": {},
   "outputs": [],
   "source": [
    "import os\n",
    "import numpy as np\n",
    "import cv2\n",
    "import matplotlib.image as mpimg\n",
    "import matplotlib.pyplot as plt\n",
    "from moviepy.editor import VideoFileClip\n",
    "from draw_lines import DrawLines\n",
    "\n",
    "%matplotlib inline\n",
    "%load_ext autoreload\n",
    "%autoreload 2"
   ]
  },
  {
   "cell_type": "markdown",
   "metadata": {},
   "source": [
    "### Processing test video 1"
   ]
  },
  {
   "cell_type": "code",
   "execution_count": 2,
   "metadata": {},
   "outputs": [
    {
     "name": "stdout",
     "output_type": "stream",
     "text": [
      "\n",
      "[MoviePy] >>>> Building file test_videos_output/solidWhiteRight.gif\n",
      "[MoviePy] Generating GIF frames...\n"
     ]
    },
    {
     "name": "stderr",
     "output_type": "stream",
     "text": [
      "100%|████████████████████████████████████████████▊| 250/251 [00:08<00:00, 29.86it/s]\n"
     ]
    },
    {
     "name": "stdout",
     "output_type": "stream",
     "text": [
      "[MoviePy] >>>> File test_videos_output/solidWhiteRight.gif is ready !Wall time: 8.61 s\n",
      "\n",
      "[MoviePy] >>>> Building file test_videos_output/solidYellowLeft.gif\n",
      "[MoviePy] Generating GIF frames...\n"
     ]
    },
    {
     "name": "stderr",
     "output_type": "stream",
     "text": [
      "100%|████████████████████████████████████████████▊| 250/251 [00:08<00:00, 30.55it/s]\n"
     ]
    },
    {
     "name": "stdout",
     "output_type": "stream",
     "text": [
      "[MoviePy] >>>> File test_videos_output/solidYellowLeft.gif is ready !Wall time: 8.38 s\n",
      "\n",
      "[MoviePy] >>>> Building file test_videos_output/challenge.gif\n",
      "[MoviePy] Generating GIF frames...\n"
     ]
    },
    {
     "name": "stderr",
     "output_type": "stream",
     "text": [
      "100%|████████████████████████████████████████████▊| 250/251 [00:17<00:00, 13.93it/s]\n"
     ]
    },
    {
     "name": "stdout",
     "output_type": "stream",
     "text": [
      "[MoviePy] >>>> File test_videos_output/challenge.gif is ready !Wall time: 18.2 s\n"
     ]
    }
   ],
   "source": [
    "input_dir = 'test_videos/'\n",
    "output_dir = 'test_videos_output/'\n",
    "for file in ['solidWhiteRight','solidYellowLeft','challenge']:\n",
    "    input_mp4 = input_dir + file + '.mp4'\n",
    "    \n",
    "    output_mp4 = output_dir + file + '.mp4'\n",
    "    output_gif = output_dir + file + '.gif'\n",
    "\n",
    "    clip = VideoFileClip(input_mp4).subclip(0, 10)\n",
    "\n",
    "    processed_clip = clip.fl_image(DrawLines(buffer_size=5))\n",
    "\n",
    "    #%time processed_clip.write_videofile(output_mp4, audio=False)\n",
    "    %time processed_clip.write_gif(output_gif, program='ffmpeg')\n",
    "\n",
    "    clip.reader.close()\n",
    "    clip.audio.reader.close_proc()\n",
    "    processed_clip.reader.close()\n",
    "    processed_clip.audio.reader.close_proc()"
   ]
  },
  {
   "cell_type": "markdown",
   "metadata": {},
   "source": [
    "![gif1](test_videos_output/solidWhiteRight.gif \"solidWhiteRight\")"
   ]
  }
 ],
 "metadata": {
  "anaconda-cloud": {},
  "kernelspec": {
   "display_name": "Python 3",
   "language": "python",
   "name": "python3"
  },
  "language_info": {
   "codemirror_mode": {
    "name": "ipython",
    "version": 3
   },
   "file_extension": ".py",
   "mimetype": "text/x-python",
   "name": "python",
   "nbconvert_exporter": "python",
   "pygments_lexer": "ipython3",
   "version": "3.5.2"
  },
  "widgets": {
   "state": {},
   "version": "1.1.2"
  }
 },
 "nbformat": 4,
 "nbformat_minor": 1
}
